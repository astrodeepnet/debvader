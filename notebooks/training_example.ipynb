{
 "cells": [
  {
   "cell_type": "code",
   "execution_count": null,
   "id": "35d45244-cd14-45ac-9361-b5788d873132",
   "metadata": {},
   "outputs": [],
   "source": [
    "import os\n",
    "import numpy as np\n",
    "import matplotlib.pyplot as plt\n",
    "import tensorflow as tf\n",
    "import pkg_resources\n",
    "\n",
    "from debvader.training.train import train_deblender"
   ]
  },
  {
   "cell_type": "markdown",
   "id": "66748883-003b-4a6d-80ef-8c138be461db",
   "metadata": {},
   "source": [
    "### Download and format data"
   ]
  },
  {
   "cell_type": "markdown",
   "id": "1c825abd-c046-4161-aa3f-1a5df9d80a28",
   "metadata": {},
   "source": [
    "Download dataset that will be used for training. It has been generated using the code in https://github.com/BastienArcelin/dc2_img_generation and the stamps are generated using the XXX function see notebook XXX. The size of the stamp is then fixed to 59x59 pixels."
   ]
  },
  {
   "cell_type": "code",
   "execution_count": null,
   "id": "5ca8dabd-65f7-41f4-8bc0-2b34d72c5fb2",
   "metadata": {},
   "outputs": [],
   "source": [
    "data_folder_path = pkg_resources.resource_filename('debvader', \"data/\")\n",
    "image_path = os.path.join(data_folder_path + '/dc2_imgs/imgs_dc2.npy')\n",
    "images = np.load(image_path, mmap_mode = 'c')"
   ]
  },
  {
   "cell_type": "code",
   "execution_count": null,
   "id": "03e779cf-0f41-4160-abb6-04dbde92879e",
   "metadata": {},
   "outputs": [],
   "source": [
    "images.shape"
   ]
  },
  {
   "cell_type": "markdown",
   "id": "bca82e2c-1861-415b-b7bb-ca8d3c340db4",
   "metadata": {},
   "source": [
    "Separate training data and labels to feed the VAE and deblender. You should be careful that the number of filter in the data for trainng correspond to the number of bands considered for the network (default is six)."
   ]
  },
  {
   "cell_type": "code",
   "execution_count": null,
   "id": "0bbbd6b9-096f-483e-900a-0205ace347cd",
   "metadata": {},
   "outputs": [],
   "source": [
    "training_data_vae = np.array((images[:5], images[:5]))\n",
    "validation_data_vae = np.array((images[5:], images[5:]))\n",
    "\n",
    "training_data_deblender = np.array((images[:5], images[:5]))\n",
    "validation_data_deblender = np.array((images[5:], images[5:]))"
   ]
  },
  {
   "cell_type": "markdown",
   "id": "fc46b4ec-f29d-4d8e-b7b4-dc6d6a02e8b0",
   "metadata": {},
   "source": [
    "### Train the VAE and deblender with architecture from the debvader paper (https://arxiv.org/abs/2005.12039)"
   ]
  },
  {
   "cell_type": "code",
   "execution_count": null,
   "id": "60f18d0e-4cc6-4a31-8e24-d849e1e3555a",
   "metadata": {},
   "outputs": [],
   "source": [
    "hist_vae, hist_deblender, net = train_deblender(\"lsst\",\n",
    "                                                      from_survey = \"dc2\", \n",
    "                                                      epochs = 2, \n",
    "                                                      training_data_vae = training_data_vae, \n",
    "                                                      validation_data_vae = validation_data_vae, \n",
    "                                                      training_data_deblender = training_data_deblender, \n",
    "                                                      validation_data_deblender = validation_data_deblender)"
   ]
  },
  {
   "cell_type": "markdown",
   "id": "95afcab4-5c6f-44e2-8b20-c17c8ee434e7",
   "metadata": {},
   "source": [
    "### Dataset with a different number of filters"
   ]
  },
  {
   "cell_type": "markdown",
   "id": "87aa14b7-5dbc-44a1-9f83-dc7a4ad5dd7e",
   "metadata": {},
   "source": [
    "The number of available filters is different for each survey. For example, five filters are available for DES data. To change that you should specify it in the train_deblender function, as well as if the channels appear last or first in the data array."
   ]
  },
  {
   "cell_type": "code",
   "execution_count": null,
   "id": "dfb93b18-59c9-4ee7-ab9f-76cadda8e4d1",
   "metadata": {},
   "outputs": [],
   "source": [
    "training_data_vae.shape"
   ]
  },
  {
   "cell_type": "markdown",
   "id": "42def587-2133-457d-b655-d970a61468ae",
   "metadata": {},
   "source": [
    "Here the channels appear last in the data array. So the channel_first option in the train_deblender function is set as False (default setting)."
   ]
  },
  {
   "cell_type": "code",
   "execution_count": null,
   "id": "15aac255-0f03-438f-811a-49d6d1f95a4e",
   "metadata": {},
   "outputs": [],
   "source": [
    "hist_vae, hist_deblender, net = train_deblender(\"des\",\n",
    "                                                      from_survey = \"dc2\", \n",
    "                                                      epochs = 2, \n",
    "                                                      training_data_vae = training_data_vae, \n",
    "                                                      validation_data_vae = validation_data_vae, \n",
    "                                                      training_data_deblender = training_data_deblender, \n",
    "                                                      validation_data_deblender = validation_data_deblender,\n",
    "                                                      nb_of_bands = 5,\n",
    "                                                      channel_last = True)"
   ]
  },
  {
   "cell_type": "markdown",
   "id": "a63c1b5e-ca38-4e76-a46e-3b477e88f3ca",
   "metadata": {},
   "source": [
    "We need to change the training data format. For example just train on the five fist channels."
   ]
  },
  {
   "cell_type": "code",
   "execution_count": null,
   "id": "15df582c-b35b-492d-9bbf-8a9d0ce4d8fe",
   "metadata": {},
   "outputs": [],
   "source": [
    "training_data_vae_deslike = np.array((images[:5,:,:,:5], images[:5,:,:,:5]))\n",
    "validation_data_vae_deslike = np.array((images[5:,:,:,:5], images[5:,:,:,:5]))\n",
    "\n",
    "training_data_deblender_deslike = np.array((images[:5,:,:,:5], images[:5,:,:,:5]))\n",
    "validation_data_deblender_deslike = np.array((images[5:,:,:,:5], images[5:,:,:,:5]))"
   ]
  },
  {
   "cell_type": "markdown",
   "id": "4032f71a-fa6f-42cd-a626-39d3a52fa162",
   "metadata": {},
   "source": [
    "Now try the training:"
   ]
  },
  {
   "cell_type": "markdown",
   "id": "c9cd53c2-75fd-48c3-b9c7-e907d4f3ba06",
   "metadata": {},
   "source": [
    "Warning: we cannot use the weights from the network trained on DC2 as the data has six channels in that case. We need to set the from_survey option to None."
   ]
  },
  {
   "cell_type": "code",
   "execution_count": null,
   "id": "b74e8b6f-a312-4ae4-b521-2b957950f1f3",
   "metadata": {},
   "outputs": [],
   "source": [
    "hist_vae, hist_deblender, net = train_deblender(\"des\",\n",
    "                                                      from_survey = None, \n",
    "                                                      epochs = 2, \n",
    "                                                      training_data_vae = training_data_vae_deslike, \n",
    "                                                      validation_data_vae = validation_data_vae_deslike, \n",
    "                                                      training_data_deblender = training_data_deblender_deslike, \n",
    "                                                      validation_data_deblender = validation_data_deblender_deslike,\n",
    "                                                      nb_of_bands = 5,\n",
    "                                                      channel_last = True)"
   ]
  },
  {
   "cell_type": "code",
   "execution_count": null,
   "id": "e5ad982f",
   "metadata": {},
   "outputs": [],
   "source": []
  }
 ],
 "metadata": {
  "kernelspec": {
   "display_name": "Python 3 (ipykernel)",
   "language": "python",
   "name": "python3"
  },
  "language_info": {
   "codemirror_mode": {
    "name": "ipython",
    "version": 3
   },
   "file_extension": ".py",
   "mimetype": "text/x-python",
   "name": "python",
   "nbconvert_exporter": "python",
   "pygments_lexer": "ipython3",
   "version": "3.11.5"
  }
 },
 "nbformat": 4,
 "nbformat_minor": 5
}
