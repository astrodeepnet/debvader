{
 "cells": [
  {
   "cell_type": "code",
   "execution_count": 1,
   "id": "35d45244-cd14-45ac-9361-b5788d873132",
   "metadata": {},
   "outputs": [
    {
     "name": "stderr",
     "output_type": "stream",
     "text": [
      "2023-09-14 12:47:49.971975: I tensorflow/core/platform/cpu_feature_guard.cc:182] This TensorFlow binary is optimized to use available CPU instructions in performance-critical operations.\n",
      "To enable the following instructions: AVX2 FMA, in other operations, rebuild TensorFlow with the appropriate compiler flags.\n"
     ]
    }
   ],
   "source": [
    "import os\n",
    "import numpy as np\n",
    "import matplotlib.pyplot as plt\n",
    "import tensorflow as tf\n",
    "import pkg_resources\n",
    "\n",
    "from debvader.training.train import train_deblender"
   ]
  },
  {
   "cell_type": "markdown",
   "id": "66748883-003b-4a6d-80ef-8c138be461db",
   "metadata": {},
   "source": [
    "### Download and format data"
   ]
  },
  {
   "cell_type": "markdown",
   "id": "1c825abd-c046-4161-aa3f-1a5df9d80a28",
   "metadata": {},
   "source": [
    "Download dataset that will be used for training. It has been generated using the code in https://github.com/BastienArcelin/dc2_img_generation and the stamps are generated using the XXX function see notebook XXX. The size of the stamp is then fixed to 59x59 pixels."
   ]
  },
  {
   "cell_type": "code",
   "execution_count": 2,
   "id": "5ca8dabd-65f7-41f4-8bc0-2b34d72c5fb2",
   "metadata": {},
   "outputs": [],
   "source": [
    "data_folder_path = pkg_resources.resource_filename('debvader', \"data/\")\n",
    "image_path = os.path.join(data_folder_path + '/dc2_imgs/imgs_dc2.npy')\n",
    "images = np.load(image_path, mmap_mode = 'c')"
   ]
  },
  {
   "cell_type": "code",
   "execution_count": 3,
   "id": "03e779cf-0f41-4160-abb6-04dbde92879e",
   "metadata": {},
   "outputs": [
    {
     "data": {
      "text/plain": [
       "(10, 59, 59, 6)"
      ]
     },
     "execution_count": 3,
     "metadata": {},
     "output_type": "execute_result"
    }
   ],
   "source": [
    "images.shape"
   ]
  },
  {
   "cell_type": "markdown",
   "id": "bca82e2c-1861-415b-b7bb-ca8d3c340db4",
   "metadata": {},
   "source": [
    "Separate training data and labels to feed the VAE and deblender. You should be careful that the number of filter in the data for trainng correspond to the number of bands considered for the network (default is six)."
   ]
  },
  {
   "cell_type": "code",
   "execution_count": 4,
   "id": "0bbbd6b9-096f-483e-900a-0205ace347cd",
   "metadata": {},
   "outputs": [],
   "source": [
    "training_data_vae = np.array((images[:5], images[:5]))\n",
    "validation_data_vae = np.array((images[5:], images[5:]))\n",
    "\n",
    "training_data_deblender = np.array((images[:5], images[:5]))\n",
    "validation_data_deblender = np.array((images[5:], images[5:]))"
   ]
  },
  {
   "cell_type": "markdown",
   "id": "fc46b4ec-f29d-4d8e-b7b4-dc6d6a02e8b0",
   "metadata": {},
   "source": [
    "### Train the VAE and deblender with architecture from the debvader paper (https://arxiv.org/abs/2005.12039)"
   ]
  },
  {
   "cell_type": "code",
   "execution_count": 5,
   "id": "60f18d0e-4cc6-4a31-8e24-d849e1e3555a",
   "metadata": {},
   "outputs": [
    {
     "name": "stdout",
     "output_type": "stream",
     "text": [
      "in cropping\n",
      "VAE model\n",
      "Model: \"model_2\"\n",
      "_________________________________________________________________\n",
      " Layer (type)                Output Shape              Param #   \n",
      "=================================================================\n",
      " input_3 (InputLayer)        [(None, 59, 59, 6)]       0         \n",
      "                                                                 \n",
      " model (Functional)          (None, 560)               3741224   \n",
      "                                                                 \n",
      " multivariate_normal_tri_l   ((None, 32),              0         \n",
      " (MultivariateNormalTriL)     (None, 32))                        \n",
      "                                                                 \n",
      " model_1 (Functional)        (None, 59, 59, 6)         4577228   \n",
      "                                                                 \n",
      "=================================================================\n",
      "Total params: 8318452 (31.73 MB)\n",
      "Trainable params: 8318440 (31.73 MB)\n",
      "Non-trainable params: 12 (48.00 Byte)\n",
      "_________________________________________________________________\n",
      "/Users/bastienarcelinapc/Docu sauvegarde/These/10_Research_projects/debvader/src/debvader/data/weights/dc2\n",
      "\n",
      "Start the training\n",
      "Epoch 1/2\n",
      "1/1 - 5s - loss: 2595072.5000 - mse: 0.0863 - kl_metric: 0.0910 - val_loss: 333604.5000 - val_mse: 0.1114 - val_kl_metric: 0.0695 - 5s/epoch - 5s/step\n",
      "Epoch 2/2\n",
      "1/1 - 1s - loss: 242661.4062 - mse: 0.0862 - kl_metric: 0.0540 - val_loss: 229600.2969 - val_mse: 0.1113 - val_kl_metric: 0.0789 - 543ms/epoch - 543ms/step\n",
      "\n",
      "Training of VAE done.\n",
      "\n",
      "\n",
      "Deblender model\n",
      "Model: \"model_2\"\n",
      "_________________________________________________________________\n",
      " Layer (type)                Output Shape              Param #   \n",
      "=================================================================\n",
      " input_3 (InputLayer)        [(None, 59, 59, 6)]       0         \n",
      "                                                                 \n",
      " model (Functional)          (None, 560)               3741224   \n",
      "                                                                 \n",
      " multivariate_normal_tri_l   ((None, 32),              0         \n",
      " (MultivariateNormalTriL)     (None, 32))                        \n",
      "                                                                 \n",
      " model_1 (Functional)        (None, 59, 59, 6)         4577228   \n",
      "                                                                 \n",
      "=================================================================\n",
      "Total params: 8318452 (31.73 MB)\n",
      "Trainable params: 3741212 (14.27 MB)\n",
      "Non-trainable params: 4577240 (17.46 MB)\n",
      "_________________________________________________________________\n",
      "\n",
      "Start the training\n",
      "Epoch 1/2\n",
      "1/1 - 4s - loss: 76837.7422 - mse: 0.0861 - kl_metric: 0.0596 - val_loss: 230535.0312 - val_mse: 0.1113 - val_kl_metric: 0.0426 - 4s/epoch - 4s/step\n",
      "Epoch 2/2\n",
      "1/1 - 0s - loss: 78054.7344 - mse: 0.0862 - kl_metric: 0.0707 - val_loss: 237906.4688 - val_mse: 0.1113 - val_kl_metric: 0.0916 - 379ms/epoch - 379ms/step\n",
      "\n",
      "Training of Deblender done.\n"
     ]
    }
   ],
   "source": [
    "hist_vae, hist_deblender, net = train_deblender(\"lsst\",\n",
    "                                                      from_survey = \"dc2\", \n",
    "                                                      epochs = 2, \n",
    "                                                      training_data_vae = training_data_vae, \n",
    "                                                      validation_data_vae = validation_data_vae, \n",
    "                                                      training_data_deblender = training_data_deblender, \n",
    "                                                      validation_data_deblender = validation_data_deblender)"
   ]
  },
  {
   "cell_type": "markdown",
   "id": "95afcab4-5c6f-44e2-8b20-c17c8ee434e7",
   "metadata": {},
   "source": [
    "### Dataset with a different number of filters"
   ]
  },
  {
   "cell_type": "markdown",
   "id": "87aa14b7-5dbc-44a1-9f83-dc7a4ad5dd7e",
   "metadata": {},
   "source": [
    "The number of available filters is different for each survey. For example, five filters are available for DES data. To change that you should specify it in the train_deblender function, as well as if the channels appear last or first in the data array."
   ]
  },
  {
   "cell_type": "code",
   "execution_count": 6,
   "id": "dfb93b18-59c9-4ee7-ab9f-76cadda8e4d1",
   "metadata": {},
   "outputs": [
    {
     "data": {
      "text/plain": [
       "(2, 5, 59, 59, 6)"
      ]
     },
     "execution_count": 6,
     "metadata": {},
     "output_type": "execute_result"
    }
   ],
   "source": [
    "training_data_vae.shape"
   ]
  },
  {
   "cell_type": "markdown",
   "id": "42def587-2133-457d-b655-d970a61468ae",
   "metadata": {},
   "source": [
    "Here the channels appear last in the data array. So the channel_first option in the train_deblender function is set as False (default setting)."
   ]
  },
  {
   "cell_type": "code",
   "execution_count": 12,
   "id": "15aac255-0f03-438f-811a-49d6d1f95a4e",
   "metadata": {},
   "outputs": [
    {
     "name": "stdout",
     "output_type": "stream",
     "text": [
      "in cropping\n",
      "VAE model\n",
      "Model: \"model_6\"\n",
      "_________________________________________________________________\n",
      " Layer (type)                Output Shape              Param #   \n",
      "=================================================================\n",
      " input_6 (InputLayer)        [(None, 59, 59, 5)]       0         \n",
      "                                                                 \n",
      " model_4 (Functional)        (None, 560)               3740932   \n",
      "                                                                 \n",
      " multivariate_normal_tri_l_  ((None, 32),              0         \n",
      " 1 (MultivariateNormalTriL)   (None, 32))                        \n",
      "                                                                 \n",
      " model_5 (Functional)        (None, 59, 59, 5)         4576650   \n",
      "                                                                 \n",
      "=================================================================\n",
      "Total params: 8317582 (31.73 MB)\n",
      "Trainable params: 8317572 (31.73 MB)\n",
      "Non-trainable params: 10 (40.00 Byte)\n",
      "_________________________________________________________________\n",
      "The number of bands in the data does not correspond to the number of filters in the network. Correct this before starting again.\n"
     ]
    },
    {
     "ename": "ValueError",
     "evalue": "",
     "output_type": "error",
     "traceback": [
      "\u001b[0;31m---------------------------------------------------------------------------\u001b[0m",
      "\u001b[0;31mValueError\u001b[0m                                Traceback (most recent call last)",
      "\u001b[1;32m/Users/bastienarcelinapc/Docu sauvegarde/These/10_Research_projects/debvader/notebooks/training_example.ipynb Cell 14\u001b[0m line \u001b[0;36m1\n\u001b[0;32m----> <a href='vscode-notebook-cell:/Users/bastienarcelinapc/Docu%20sauvegarde/These/10_Research_projects/debvader/notebooks/training_example.ipynb#X46sZmlsZQ%3D%3D?line=0'>1</a>\u001b[0m hist_vae, hist_deblender, net \u001b[39m=\u001b[39m train_deblender(\u001b[39m\"\u001b[39;49m\u001b[39mdes\u001b[39;49m\u001b[39m\"\u001b[39;49m,\n\u001b[1;32m      <a href='vscode-notebook-cell:/Users/bastienarcelinapc/Docu%20sauvegarde/These/10_Research_projects/debvader/notebooks/training_example.ipynb#X46sZmlsZQ%3D%3D?line=1'>2</a>\u001b[0m                                                       from_survey \u001b[39m=\u001b[39;49m \u001b[39m\"\u001b[39;49m\u001b[39mdc2\u001b[39;49m\u001b[39m\"\u001b[39;49m, \n\u001b[1;32m      <a href='vscode-notebook-cell:/Users/bastienarcelinapc/Docu%20sauvegarde/These/10_Research_projects/debvader/notebooks/training_example.ipynb#X46sZmlsZQ%3D%3D?line=2'>3</a>\u001b[0m                                                       epochs \u001b[39m=\u001b[39;49m \u001b[39m2\u001b[39;49m, \n\u001b[1;32m      <a href='vscode-notebook-cell:/Users/bastienarcelinapc/Docu%20sauvegarde/These/10_Research_projects/debvader/notebooks/training_example.ipynb#X46sZmlsZQ%3D%3D?line=3'>4</a>\u001b[0m                                                       training_data_vae \u001b[39m=\u001b[39;49m training_data_vae, \n\u001b[1;32m      <a href='vscode-notebook-cell:/Users/bastienarcelinapc/Docu%20sauvegarde/These/10_Research_projects/debvader/notebooks/training_example.ipynb#X46sZmlsZQ%3D%3D?line=4'>5</a>\u001b[0m                                                       validation_data_vae \u001b[39m=\u001b[39;49m validation_data_vae, \n\u001b[1;32m      <a href='vscode-notebook-cell:/Users/bastienarcelinapc/Docu%20sauvegarde/These/10_Research_projects/debvader/notebooks/training_example.ipynb#X46sZmlsZQ%3D%3D?line=5'>6</a>\u001b[0m                                                       training_data_deblender \u001b[39m=\u001b[39;49m training_data_deblender, \n\u001b[1;32m      <a href='vscode-notebook-cell:/Users/bastienarcelinapc/Docu%20sauvegarde/These/10_Research_projects/debvader/notebooks/training_example.ipynb#X46sZmlsZQ%3D%3D?line=6'>7</a>\u001b[0m                                                       validation_data_deblender \u001b[39m=\u001b[39;49m validation_data_deblender,\n\u001b[1;32m      <a href='vscode-notebook-cell:/Users/bastienarcelinapc/Docu%20sauvegarde/These/10_Research_projects/debvader/notebooks/training_example.ipynb#X46sZmlsZQ%3D%3D?line=7'>8</a>\u001b[0m                                                       nb_of_bands \u001b[39m=\u001b[39;49m \u001b[39m5\u001b[39;49m,\n\u001b[1;32m      <a href='vscode-notebook-cell:/Users/bastienarcelinapc/Docu%20sauvegarde/These/10_Research_projects/debvader/notebooks/training_example.ipynb#X46sZmlsZQ%3D%3D?line=8'>9</a>\u001b[0m                                                       channel_last \u001b[39m=\u001b[39;49m \u001b[39mTrue\u001b[39;49;00m)\n",
      "File \u001b[0;32m~/Docu sauvegarde/These/10_Research_projects/debvader/src/debvader/training/train.py:142\u001b[0m, in \u001b[0;36mtrain_deblender\u001b[0;34m(survey_name, from_survey, epochs, training_data_vae, validation_data_vae, training_data_deblender, validation_data_deblender, nb_of_bands, channel_last, batch_size, with_callbacks, verbose)\u001b[0m\n\u001b[1;32m    138\u001b[0m \u001b[39mif\u001b[39;00m channel_last \u001b[39m&\u001b[39m (training_data_vae\u001b[39m.\u001b[39mshape[\u001b[39m-\u001b[39m\u001b[39m1\u001b[39m] \u001b[39m!=\u001b[39m nb_of_bands):\n\u001b[1;32m    139\u001b[0m     \u001b[39mprint\u001b[39m(\n\u001b[1;32m    140\u001b[0m         \u001b[39m\"\u001b[39m\u001b[39mThe number of bands in the data does not correspond to the number of filters in the network. Correct this before starting again.\u001b[39m\u001b[39m\"\u001b[39m\n\u001b[1;32m    141\u001b[0m     )\n\u001b[0;32m--> 142\u001b[0m     \u001b[39mraise\u001b[39;00m \u001b[39mValueError\u001b[39;00m\n\u001b[1;32m    144\u001b[0m \u001b[39m# Start from the weights of an already trained network (recommended if possible)\u001b[39;00m\n\u001b[1;32m    145\u001b[0m \u001b[39mif\u001b[39;00m from_survey \u001b[39mis\u001b[39;00m \u001b[39mnot\u001b[39;00m \u001b[39mNone\u001b[39;00m:\n",
      "\u001b[0;31mValueError\u001b[0m: "
     ]
    }
   ],
   "source": [
    "hist_vae, hist_deblender, net = train_deblender(\"des\",\n",
    "                                                      from_survey = \"dc2\", \n",
    "                                                      epochs = 2, \n",
    "                                                      training_data_vae = training_data_vae, \n",
    "                                                      validation_data_vae = validation_data_vae, \n",
    "                                                      training_data_deblender = training_data_deblender, \n",
    "                                                      validation_data_deblender = validation_data_deblender,\n",
    "                                                      nb_of_bands = 5,\n",
    "                                                      channel_last = True)"
   ]
  },
  {
   "cell_type": "markdown",
   "id": "a63c1b5e-ca38-4e76-a46e-3b477e88f3ca",
   "metadata": {},
   "source": [
    "We need to change the training data format. For example just train on the five fist channels."
   ]
  },
  {
   "cell_type": "code",
   "execution_count": 13,
   "id": "15df582c-b35b-492d-9bbf-8a9d0ce4d8fe",
   "metadata": {},
   "outputs": [],
   "source": [
    "training_data_vae_deslike = np.array((images[:5,:,:,:5], images[:5,:,:,:5]))\n",
    "validation_data_vae_deslike = np.array((images[5:,:,:,:5], images[5:,:,:,:5]))\n",
    "\n",
    "training_data_deblender_deslike = np.array((images[:5,:,:,:5], images[:5,:,:,:5]))\n",
    "validation_data_deblender_deslike = np.array((images[5:,:,:,:5], images[5:,:,:,:5]))"
   ]
  },
  {
   "cell_type": "markdown",
   "id": "4032f71a-fa6f-42cd-a626-39d3a52fa162",
   "metadata": {},
   "source": [
    "Now try the training:"
   ]
  },
  {
   "cell_type": "code",
   "execution_count": 14,
   "id": "a0fed47e-a93b-48d9-b0a8-30ab7cb3b5d8",
   "metadata": {},
   "outputs": [],
   "source": [
    "data_folder_path = pkg_resources.resource_filename('debvader', \"data/\")\n",
    "path_output = os.path.join(data_folder_path, 'weights/dc2/not_normalised/')\n",
    "latest = tf.train.latest_checkpoint(path_output)"
   ]
  },
  {
   "cell_type": "markdown",
   "id": "c9cd53c2-75fd-48c3-b9c7-e907d4f3ba06",
   "metadata": {},
   "source": [
    "Warning: we cannot use the weights from the network trained on DC2 as the data has six channels in that case. We need to set the from_survey option to None."
   ]
  },
  {
   "cell_type": "code",
   "execution_count": 15,
   "id": "b74e8b6f-a312-4ae4-b521-2b957950f1f3",
   "metadata": {},
   "outputs": [
    {
     "name": "stdout",
     "output_type": "stream",
     "text": [
      "in cropping\n",
      "VAE model\n",
      "Model: \"model_10\"\n",
      "_________________________________________________________________\n",
      " Layer (type)                Output Shape              Param #   \n",
      "=================================================================\n",
      " input_9 (InputLayer)        [(None, 59, 59, 5)]       0         \n",
      "                                                                 \n",
      " model_8 (Functional)        (None, 560)               3740932   \n",
      "                                                                 \n",
      " multivariate_normal_tri_l_  ((None, 32),              0         \n",
      " 2 (MultivariateNormalTriL)   (None, 32))                        \n",
      "                                                                 \n",
      " model_9 (Functional)        (None, 59, 59, 5)         4576650   \n",
      "                                                                 \n",
      "=================================================================\n",
      "Total params: 8317582 (31.73 MB)\n",
      "Trainable params: 8317572 (31.73 MB)\n",
      "Non-trainable params: 10 (40.00 Byte)\n",
      "_________________________________________________________________\n",
      "\n",
      "Start the training\n",
      "Epoch 1/2\n",
      "1/1 - 6s - loss: 2410774.5000 - mse: 0.0609 - kl_metric: 0.0348 - val_loss: 2077614.3750 - val_mse: 0.0930 - val_kl_metric: 0.0881 - 6s/epoch - 6s/step\n",
      "Epoch 2/2\n",
      "1/1 - 0s - loss: 1019742.1875 - mse: 0.0608 - kl_metric: 0.0612 - val_loss: 1007319.5000 - val_mse: 0.0929 - val_kl_metric: 0.0637 - 443ms/epoch - 443ms/step\n",
      "\n",
      "Training of VAE done.\n",
      "\n",
      "\n",
      "Deblender model\n",
      "Model: \"model_10\"\n",
      "_________________________________________________________________\n",
      " Layer (type)                Output Shape              Param #   \n",
      "=================================================================\n",
      " input_9 (InputLayer)        [(None, 59, 59, 5)]       0         \n",
      "                                                                 \n",
      " model_8 (Functional)        (None, 560)               3740932   \n",
      "                                                                 \n",
      " multivariate_normal_tri_l_  ((None, 32),              0         \n",
      " 2 (MultivariateNormalTriL)   (None, 32))                        \n",
      "                                                                 \n",
      " model_9 (Functional)        (None, 59, 59, 5)         4576650   \n",
      "                                                                 \n",
      "=================================================================\n",
      "Total params: 8317582 (31.73 MB)\n",
      "Trainable params: 3740922 (14.27 MB)\n",
      "Non-trainable params: 4576660 (17.46 MB)\n",
      "_________________________________________________________________\n",
      "\n",
      "Start the training\n",
      "Epoch 1/2\n",
      "1/1 - 5s - loss: 418889.2812 - mse: 0.0608 - kl_metric: 0.0628 - val_loss: 814717.8750 - val_mse: 0.0929 - val_kl_metric: 0.0639 - 5s/epoch - 5s/step\n",
      "Epoch 2/2\n",
      "1/1 - 0s - loss: 484797.0938 - mse: 0.0608 - kl_metric: 0.0683 - val_loss: 1078054.1250 - val_mse: 0.0929 - val_kl_metric: 0.1052 - 345ms/epoch - 345ms/step\n",
      "\n",
      "Training of Deblender done.\n"
     ]
    }
   ],
   "source": [
    "hist_vae, hist_deblender, net = train_deblender(\"des\",\n",
    "                                                      from_survey = None, \n",
    "                                                      epochs = 2, \n",
    "                                                      training_data_vae = training_data_vae_deslike, \n",
    "                                                      validation_data_vae = validation_data_vae_deslike, \n",
    "                                                      training_data_deblender = training_data_deblender_deslike, \n",
    "                                                      validation_data_deblender = validation_data_deblender_deslike,\n",
    "                                                      nb_of_bands = 5,\n",
    "                                                      channel_last = True)"
   ]
  },
  {
   "cell_type": "code",
   "execution_count": null,
   "id": "e5ad982f",
   "metadata": {},
   "outputs": [],
   "source": []
  }
 ],
 "metadata": {
  "kernelspec": {
   "display_name": "Python 3 (ipykernel)",
   "language": "python",
   "name": "python3"
  },
  "language_info": {
   "codemirror_mode": {
    "name": "ipython",
    "version": 3
   },
   "file_extension": ".py",
   "mimetype": "text/x-python",
   "name": "python",
   "nbconvert_exporter": "python",
   "pygments_lexer": "ipython3",
   "version": "3.11.5"
  }
 },
 "nbformat": 4,
 "nbformat_minor": 5
}
