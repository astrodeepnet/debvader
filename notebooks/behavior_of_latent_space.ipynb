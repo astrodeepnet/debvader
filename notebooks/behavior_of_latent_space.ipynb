{
 "cells": [
  {
   "cell_type": "code",
   "execution_count": null,
   "id": "ce296274-dc4a-4b0f-9613-d2089a853e3b",
   "metadata": {},
   "outputs": [],
   "source": [
    "import os\n",
    "import numpy as np\n",
    "import matplotlib.pyplot as plt\n",
    "import tensorflow as tf\n",
    "import pkg_resources\n",
    "\n",
    "from debvader import DeblendField, IterativeDeblendField\n",
    "\n",
    "from debvader.model.model import load_deblender\n",
    "from debvader.deblend_cutout.deblender import deblend\n",
    "\n",
    "# TODO finish updating to new architecture"
   ]
  },
  {
   "cell_type": "markdown",
   "id": "b5ed4627-f8b9-4cde-8083-270333dd7831",
   "metadata": {},
   "source": [
    "### Deblend stamps randomly generated from DC2 data"
   ]
  },
  {
   "cell_type": "markdown",
   "id": "d4cf1fb6",
   "metadata": {},
   "source": [
    "Load 10 DC2 images centred on galaxy. They have been generated using this notebook: https://github.com/BastienArcelin/dc2_img_generation/blob/main/notebooks/dc2_stamps_and_corresponding_parameters.ipynb"
   ]
  },
  {
   "cell_type": "code",
   "execution_count": null,
   "id": "501c2d19",
   "metadata": {},
   "outputs": [],
   "source": [
    "data_folder_path = pkg_resources.resource_filename('debvader', \"data/\")\n",
    "image_path = os.path.join(data_folder_path + 'dc2_imgs/imgs_dc2.npy')\n",
    "images = np.load(image_path, mmap_mode = 'c')"
   ]
  },
  {
   "cell_type": "markdown",
   "id": "bdc34ae7",
   "metadata": {},
   "source": [
    "Visualize some of the images"
   ]
  },
  {
   "cell_type": "code",
   "execution_count": null,
   "id": "a6249b62",
   "metadata": {},
   "outputs": [],
   "source": [
    "fig, axes = plt.subplots(1,3, figsize = (12, 4))\n",
    "for i in range (3):\n",
    "    axes[i].imshow(images[i,:,:,2]) # We plot only r-band here, but the images are multi-bands (ugrizy)"
   ]
  },
  {
   "cell_type": "markdown",
   "id": "4804f979",
   "metadata": {},
   "source": [
    "Now we can load the deblender"
   ]
  },
  {
   "cell_type": "code",
   "execution_count": null,
   "id": "1efe5836",
   "metadata": {},
   "outputs": [],
   "source": [
    "# First, define the parameters of the neural network, for this version of debvader, they are as follow:\n",
    "nb_of_bands = 6\n",
    "input_shape = (59, 59, nb_of_bands)\n",
    "latent_dim = 32\n",
    "filters = [32,64,128,256]\n",
    "kernels = [3,3,3,3]\n",
    "\n",
    "# We will load the weights of the network trained on DC2 images\n",
    "survey = \"dc2\""
   ]
  },
  {
   "cell_type": "code",
   "execution_count": null,
   "id": "de2a0fd6",
   "metadata": {},
   "outputs": [],
   "source": [
    "# Load the network using the load_deblender function\n",
    "net, encoder, decoder, z = load_deblender(survey, input_shape, latent_dim, filters, kernels, return_encoder_decoder_z=True)"
   ]
  },
  {
   "cell_type": "code",
   "execution_count": null,
   "id": "636f693a",
   "metadata": {
    "tags": []
   },
   "outputs": [],
   "source": [
    "# We can visualize the network\n",
    "net.summary()"
   ]
  },
  {
   "cell_type": "markdown",
   "id": "ef732d6c",
   "metadata": {},
   "source": [
    "We now have everything to do the deblending. Let's use our network to deblend the DC2 images"
   ]
  },
  {
   "cell_type": "code",
   "execution_count": null,
   "id": "ae92edfe",
   "metadata": {},
   "outputs": [],
   "source": [
    "output_images_mean, output_images_distribution = deblend(net, images)"
   ]
  },
  {
   "cell_type": "markdown",
   "id": "9c7c5f8c",
   "metadata": {},
   "source": [
    "Here the network outputs a distribution over the pixels for each pixel in each filter, this is why both the mean image and the corresponding distribution is outputed.\n",
    "\n",
    "Let's first visualize the mean images outputed by debvader."
   ]
  },
  {
   "cell_type": "code",
   "execution_count": null,
   "id": "d68c6459",
   "metadata": {},
   "outputs": [],
   "source": [
    "fig, axes = plt.subplots(3,3, figsize = (12, 12))\n",
    "for i in range (3):\n",
    "    axes[i,0].imshow(images[i,:,:,2]) # We plot only r-band here, but the images are multi-bands (ugrizy)\n",
    "    axes[i,1].imshow(output_images_mean[i,:,:,2]) # We plot only r-band here, but the output images are multi-bands (ugrizy)\n",
    "    axes[i,2].imshow(images[i,:,:,2]-output_images_mean[i,:,:,2])"
   ]
  },
  {
   "cell_type": "code",
   "execution_count": null,
   "id": "c4e6b1c1-7be5-47ad-a5e9-d7c023ea4307",
   "metadata": {},
   "outputs": [],
   "source": [
    "import pandas as pd\n",
    "root_dir = \"/pbs/home/b/barcelin/sps_link/data/dc2_test/24.5/test/\"\n",
    "\n",
    "images_noiseless = np.load(root_dir+'img_noiseless_sample_2.npy', mmap_mode = 'c')\n",
    "images_noisy = np.load(root_dir+'img_cropped_sample_2.npy', mmap_mode = 'c')\n",
    "data = pd.read_csv(root_dir+'img_noiseless_data_2.csv')"
   ]
  },
  {
   "cell_type": "code",
   "execution_count": null,
   "id": "4e545450-1352-4ee4-84b6-55e4f87cec40",
   "metadata": {},
   "outputs": [],
   "source": [
    "latent_space_distribution_noiseless = z(tf.cast(images_noiseless[:1000], tf.float32))\n",
    "latent_space_distribution_noisy = z(tf.cast(images_noisy[:1000], tf.float32))\n",
    "\n",
    "#print(latent_space_distribution)"
   ]
  },
  {
   "cell_type": "code",
   "execution_count": null,
   "id": "74712ebc-eff7-48d8-a4d5-98c05853c488",
   "metadata": {},
   "outputs": [],
   "source": [
    "plt.plot(np.linspace(0,32, 32), np.mean(latent_space_distribution_noiseless.stddev().numpy() ,axis = 0), '.', color = 'blue', alpha = 0.3)\n",
    "plt.plot(np.linspace(0,32, 32), np.mean(latent_space_distribution_noiseless.stddev().numpy() ,axis = 0), '.', color = 'red', alpha = 0.3)"
   ]
  },
  {
   "cell_type": "code",
   "execution_count": null,
   "id": "3e693bc8-904c-4dfb-b949-56d062f32bf6",
   "metadata": {},
   "outputs": [],
   "source": [
    "fig, axes = plt.subplots(1,2 ,figsize = (20,5))\n",
    "\n",
    "for i in range (2):\n",
    "    _ = axes[i].hist(np.concatenate(latent_space_distribution_noiseless.stddev().numpy(), axis = 0), bins = 100, alpha = 0.3 , label = 'noiseless')\n",
    "    _ = axes[i].hist(np.concatenate(latent_space_distribution_noisy.stddev().numpy(), axis = 0), bins = 100, alpha = 0.3, label = 'blended and noisy')\n",
    "\n",
    "axes[0].legend()\n",
    "axes[1].set_xlim(0, 0.8)\n",
    "axes[1].set_ylim(0, 1000)\n",
    "\n",
    "plt.title('standard deviation of latent space')"
   ]
  },
  {
   "cell_type": "code",
   "execution_count": null,
   "id": "78cf1f17-adf6-483f-bec6-a99d5c12c2db",
   "metadata": {},
   "outputs": [],
   "source": [
    "fig, axes = plt.subplots(1,2 ,figsize = (20,5))\n",
    "\n",
    "for i in range (2):\n",
    "    _ = axes[i].hist(np.concatenate(latent_space_distribution_noiseless.mean().numpy(), axis = 0), bins = 100, alpha = 0.3 , label = 'noiseless')\n",
    "    _ = axes[i].hist(np.concatenate(latent_space_distribution_noisy.mean().numpy(), axis = 0), bins = 100, alpha = 0.3, label = 'blended and noisy')\n",
    "\n",
    "axes[0].legend()\n",
    "axes[1].set_xlim(-5, 5)\n",
    "axes[1].set_yscale('log')\n",
    "\n",
    "plt.title('means of latent space')"
   ]
  },
  {
   "cell_type": "markdown",
   "id": "94f9826e-80e7-4832-abc4-fd1ce7dc45cf",
   "metadata": {},
   "source": [
    "Now let's visualise as a function of blendedness"
   ]
  },
  {
   "cell_type": "code",
   "execution_count": null,
   "id": "17150ee0-053d-4d47-86d6-929bf320851a",
   "metadata": {},
   "outputs": [],
   "source": [
    "latent_space_distribution_noiseless.stddev().numpy().shape"
   ]
  },
  {
   "cell_type": "code",
   "execution_count": null,
   "id": "f89a4802-0123-489f-90f4-6381fd74ce7b",
   "metadata": {},
   "outputs": [],
   "source": [
    "fig, axes = plt.subplots(1,2 ,figsize = (20,5))\n",
    "\n",
    "for i in range (2):\n",
    "        _ = axes[i].plot(data['blendedness'][:1000], np.mean(latent_space_distribution_noiseless.stddev().numpy(), axis = 1), '.',color = 'blue', alpha = 0.3 , label = 'noiseless')\n",
    "        _ = axes[i].plot(data['blendedness'][:1000], np.mean(latent_space_distribution_noisy.stddev().numpy(), axis = 1),'.', color = 'red', alpha = 0.3 , label = 'noisy')\n",
    "\n",
    "axes[0].legend()\n",
    "axes[0].set_xscale('log')\n",
    "axes[0].set_title('mean std in latent space as a function of blendedness')"
   ]
  },
  {
   "cell_type": "markdown",
   "id": "6c942a6b-b62c-455f-af24-064c5b4dc575",
   "metadata": {},
   "source": [
    "Now we can look at what the images of the standard deviation look like for each example, and how we can sample this distribution in each pixel."
   ]
  },
  {
   "cell_type": "code",
   "execution_count": null,
   "id": "b15d722a-bd89-42ba-9e7b-751fe42bf9e1",
   "metadata": {},
   "outputs": [],
   "source": [
    "output_uncertainty_mean = output_images_distribution.mean().numpy() # Extract the mean of the distribution. Same image as output_images_mean.\n",
    "output_uncertainty_std = output_images_distribution.stddev().numpy() # Extract the standard deviation of the distribution.\n",
    "output_uncertainty_sample = tf.math.reduce_mean(output_images_distribution.sample(100), axis = 0).numpy() # Sample 100 times the distribution in each pixel and produce a mean image."
   ]
  },
  {
   "cell_type": "code",
   "execution_count": null,
   "id": "abf3e860-b219-45b0-9055-7227b84c0e94",
   "metadata": {},
   "outputs": [],
   "source": [
    "fig, axes = plt.subplots(3,6, figsize = (28, 12))\n",
    "\n",
    "for i in range (3):\n",
    "    f1 = axes[i,0].imshow(images[i,:,:,2])\n",
    "    f2 = axes[i,1].imshow(output_uncertainty_mean[i,:,:,2])\n",
    "    f3 = axes[i,2].imshow(output_uncertainty_std[i,:,:,2])\n",
    "    f4 = axes[i,3].imshow(output_uncertainty_sample[i,:,:,2])\n",
    "    f5 = axes[i,4].imshow(images[i,:,:,2] - output_uncertainty_mean[i,:,:,2])\n",
    "    f6 = axes[i,5].imshow(images[i,:,:,2] - output_uncertainty_sample[i,:,:,2])\n",
    "    fig.colorbar(f1, ax = axes[i,0])\n",
    "    fig.colorbar(f2, ax = axes[i,1])\n",
    "    fig.colorbar(f3, ax = axes[i,2])\n",
    "    fig.colorbar(f4, ax = axes[i,3])\n",
    "    fig.colorbar(f5, ax = axes[i,4])\n",
    "    fig.colorbar(f6, ax = axes[i,5])\n",
    "\n",
    "    axes[i,0].set_title('Input')\n",
    "    axes[i,1].set_title('output mean flux')\n",
    "    axes[i,2].set_title('output std of flux per pixel')\n",
    "    axes[i,3].set_title('output mean \\n of 100 sample')\n",
    "    axes[i,4].set_title('target - output mean')\n",
    "    axes[i,5].set_title('target - output \\n 100 sample')"
   ]
  },
  {
   "cell_type": "code",
   "execution_count": null,
   "id": "0aeb8038-fdef-4465-9d8b-7552ae3f9c78",
   "metadata": {},
   "outputs": [],
   "source": []
  }
 ],
 "metadata": {
  "kernelspec": {
   "display_name": "Python 3 (ipykernel)",
   "language": "python",
   "name": "python3"
  },
  "language_info": {
   "codemirror_mode": {
    "name": "ipython",
    "version": 3
   },
   "file_extension": ".py",
   "mimetype": "text/x-python",
   "name": "python",
   "nbconvert_exporter": "python",
   "pygments_lexer": "ipython3",
   "version": "3.11.5"
  },
  "toc-autonumbering": false
 },
 "nbformat": 4,
 "nbformat_minor": 5
}
